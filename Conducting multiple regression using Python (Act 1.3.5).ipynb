{
 "cells": [
  {
   "cell_type": "code",
   "execution_count": 17,
   "id": "f94aa8bf",
   "metadata": {},
   "outputs": [],
   "source": [
    "#Import all the necessary packages:\n",
    "import numpy as np\n",
    "import pandas as pd\n",
    "import statsmodels.api as sm\n",
    "import statsmodels.stats.api as sms\n",
    "import sklearn\n",
    "import matplotlib.pyplot as plt\n",
    "\n",
    "from sklearn import datasets \n",
    "from sklearn import linear_model\n",
    "from statsmodels.stats.outliers_influence import variance_inflation_factor\n",
    "from sklearn.model_selection import train_test_split\n",
    "from sklearn import metrics\n",
    "from sklearn.linear_model import LinearRegression\n",
    "from statsmodels.formula.api import ols"
   ]
  },
  {
   "cell_type": "code",
   "execution_count": 18,
   "id": "7f0ba52d",
   "metadata": {},
   "outputs": [
    {
     "data": {
      "text/html": [
       "<div>\n",
       "<style scoped>\n",
       "    .dataframe tbody tr th:only-of-type {\n",
       "        vertical-align: middle;\n",
       "    }\n",
       "\n",
       "    .dataframe tbody tr th {\n",
       "        vertical-align: top;\n",
       "    }\n",
       "\n",
       "    .dataframe thead th {\n",
       "        text-align: right;\n",
       "    }\n",
       "</style>\n",
       "<table border=\"1\" class=\"dataframe\">\n",
       "  <thead>\n",
       "    <tr style=\"text-align: right;\">\n",
       "      <th></th>\n",
       "      <th>Sale</th>\n",
       "      <th>por_OS</th>\n",
       "      <th>por_NON</th>\n",
       "      <th>recc</th>\n",
       "      <th>avg_no_it</th>\n",
       "      <th>age</th>\n",
       "      <th>dis</th>\n",
       "      <th>diff_reg</th>\n",
       "      <th>tax</th>\n",
       "      <th>bk</th>\n",
       "      <th>lowstat</th>\n",
       "      <th>Median_s</th>\n",
       "    </tr>\n",
       "  </thead>\n",
       "  <tbody>\n",
       "    <tr>\n",
       "      <th>0</th>\n",
       "      <td>0.63</td>\n",
       "      <td>18.0</td>\n",
       "      <td>2.31</td>\n",
       "      <td>0</td>\n",
       "      <td>6.575</td>\n",
       "      <td>65.2</td>\n",
       "      <td>4.0900</td>\n",
       "      <td>1</td>\n",
       "      <td>296</td>\n",
       "      <td>396.90</td>\n",
       "      <td>4.98</td>\n",
       "      <td>24.0</td>\n",
       "    </tr>\n",
       "    <tr>\n",
       "      <th>1</th>\n",
       "      <td>2.73</td>\n",
       "      <td>0.0</td>\n",
       "      <td>7.07</td>\n",
       "      <td>0</td>\n",
       "      <td>6.421</td>\n",
       "      <td>78.9</td>\n",
       "      <td>4.9671</td>\n",
       "      <td>2</td>\n",
       "      <td>242</td>\n",
       "      <td>396.90</td>\n",
       "      <td>9.14</td>\n",
       "      <td>21.6</td>\n",
       "    </tr>\n",
       "    <tr>\n",
       "      <th>2</th>\n",
       "      <td>2.73</td>\n",
       "      <td>0.0</td>\n",
       "      <td>7.07</td>\n",
       "      <td>0</td>\n",
       "      <td>7.185</td>\n",
       "      <td>61.1</td>\n",
       "      <td>4.9671</td>\n",
       "      <td>2</td>\n",
       "      <td>242</td>\n",
       "      <td>392.83</td>\n",
       "      <td>4.03</td>\n",
       "      <td>34.7</td>\n",
       "    </tr>\n",
       "    <tr>\n",
       "      <th>3</th>\n",
       "      <td>3.24</td>\n",
       "      <td>0.0</td>\n",
       "      <td>2.18</td>\n",
       "      <td>0</td>\n",
       "      <td>6.998</td>\n",
       "      <td>45.8</td>\n",
       "      <td>6.0622</td>\n",
       "      <td>3</td>\n",
       "      <td>222</td>\n",
       "      <td>394.63</td>\n",
       "      <td>2.94</td>\n",
       "      <td>33.4</td>\n",
       "    </tr>\n",
       "    <tr>\n",
       "      <th>4</th>\n",
       "      <td>6.91</td>\n",
       "      <td>0.0</td>\n",
       "      <td>2.18</td>\n",
       "      <td>0</td>\n",
       "      <td>7.147</td>\n",
       "      <td>54.2</td>\n",
       "      <td>6.0622</td>\n",
       "      <td>3</td>\n",
       "      <td>222</td>\n",
       "      <td>396.90</td>\n",
       "      <td>5.33</td>\n",
       "      <td>36.2</td>\n",
       "    </tr>\n",
       "  </tbody>\n",
       "</table>\n",
       "</div>"
      ],
      "text/plain": [
       "   Sale  por_OS  por_NON  recc  avg_no_it   age     dis  diff_reg  tax  \\\n",
       "0  0.63    18.0     2.31     0      6.575  65.2  4.0900         1  296   \n",
       "1  2.73     0.0     7.07     0      6.421  78.9  4.9671         2  242   \n",
       "2  2.73     0.0     7.07     0      7.185  61.1  4.9671         2  242   \n",
       "3  3.24     0.0     2.18     0      6.998  45.8  6.0622         3  222   \n",
       "4  6.91     0.0     2.18     0      7.147  54.2  6.0622         3  222   \n",
       "\n",
       "       bk  lowstat  Median_s  \n",
       "0  396.90     4.98      24.0  \n",
       "1  396.90     9.14      21.6  \n",
       "2  392.83     4.03      34.7  \n",
       "3  394.63     2.94      33.4  \n",
       "4  396.90     5.33      36.2  "
      ]
     },
     "execution_count": 18,
     "metadata": {},
     "output_type": "execute_result"
    }
   ],
   "source": [
    "# Import and read the data file:\n",
    "df = pd.read_csv('Ecommerce_data.csv')\n",
    "\n",
    "df.head()"
   ]
  },
  {
   "cell_type": "code",
   "execution_count": 19,
   "id": "d07f190f",
   "metadata": {},
   "outputs": [
    {
     "name": "stdout",
     "output_type": "stream",
     "text": [
      "<class 'pandas.core.frame.DataFrame'>\n",
      "RangeIndex: 506 entries, 0 to 505\n",
      "Data columns (total 12 columns):\n",
      " #   Column     Non-Null Count  Dtype  \n",
      "---  ------     --------------  -----  \n",
      " 0   Sale       506 non-null    float64\n",
      " 1   por_OS     506 non-null    float64\n",
      " 2   por_NON    506 non-null    float64\n",
      " 3   recc       506 non-null    int64  \n",
      " 4   avg_no_it  506 non-null    float64\n",
      " 5   age        506 non-null    float64\n",
      " 6   dis        506 non-null    float64\n",
      " 7   diff_reg   506 non-null    int64  \n",
      " 8   tax        506 non-null    int64  \n",
      " 9   bk         506 non-null    float64\n",
      " 10  lowstat    506 non-null    float64\n",
      " 11  Median_s   506 non-null    float64\n",
      "dtypes: float64(9), int64(3)\n",
      "memory usage: 47.6 KB\n"
     ]
    }
   ],
   "source": [
    "df.info()"
   ]
  },
  {
   "cell_type": "code",
   "execution_count": 23,
   "id": "4c706ac0",
   "metadata": {},
   "outputs": [],
   "source": [
    "# Define the dependent variable.\n",
    "y = df['Median_s']\n",
    "\n",
    "# Define the independent variable.\n",
    "X = df[['avg_no_it', 'tax']]"
   ]
  },
  {
   "cell_type": "code",
   "execution_count": 25,
   "id": "499817a4",
   "metadata": {},
   "outputs": [],
   "source": [
    "# create train and test data sets\n",
    "x_train, x_test, y_train, y_test = train_test_split(X, y, test_size=0.2, random_state=5)"
   ]
  },
  {
   "cell_type": "code",
   "execution_count": 28,
   "id": "fd18c0d7",
   "metadata": {},
   "outputs": [
    {
     "data": {
      "text/plain": [
       "LinearRegression()"
      ]
     },
     "execution_count": 28,
     "metadata": {},
     "output_type": "execute_result"
    }
   ],
   "source": [
    "mlm = LinearRegression()\n",
    "\n",
    "# Fit the model.\n",
    "mlm.fit(x_train, y_train) "
   ]
  },
  {
   "cell_type": "code",
   "execution_count": 29,
   "id": "51429687",
   "metadata": {},
   "outputs": [
    {
     "data": {
      "text/plain": [
       "array([19.68077167, 38.76268832, 15.79429553, 23.49922927, 19.2739039 ,\n",
       "        8.11113341, 22.59791218, 14.06288888, 26.39447012, 21.86039213,\n",
       "       19.79545594, 30.26529047, 21.22777796, 21.44808858, 20.79264432,\n",
       "       23.45370907, 21.97392517, 18.46339447, 23.11847005, 34.4541126 ,\n",
       "       25.78072075, 19.76882387, 23.04084157, 26.82686538, 17.75595394,\n",
       "       22.13454223, 20.1246662 , 37.45556138, 34.46353646, 25.41954164,\n",
       "       14.71226966, 21.05474884, 20.37149849, 22.93705789, 11.66858537,\n",
       "        5.63570732, 25.934629  , 26.27064708, 22.2364656 , 21.61934447,\n",
       "       17.77360377, 18.96641292, 31.56527838, 15.15597811, 26.66444607,\n",
       "       20.36881247, 24.43706724, 23.85868181, 18.76614735, 24.03793148,\n",
       "       19.70204364, 17.6314042 , 21.96729204, 33.05748004, 11.14180696,\n",
       "       25.42261122, 31.1691132 , 31.06150421, 21.95950768, 28.04224855,\n",
       "       18.54177868, 31.03384325, 24.53573494, 19.40072084, 20.55261985,\n",
       "       21.02538463, 30.45308592, -2.85702811, 24.909733  , 19.05594186,\n",
       "       17.05358842, 21.07872391, 22.54333459, 12.74517546, 19.53717674,\n",
       "       29.52410786, 22.68984204, 16.15237603, 31.01355975, 36.30385414,\n",
       "       21.09084518, 23.29169095,  8.0566429 , 21.41668368, 32.02703216,\n",
       "       19.22719775, 32.86618479, 24.12806479, 17.86720216, 21.38031987,\n",
       "       22.03620004, 24.877491  , 28.85074631, 17.86493496, 22.91933239,\n",
       "       27.25260989, 22.86244664, 24.32851643, 29.30614581, 17.56912933,\n",
       "       28.19548814, 25.86720913, 12.39253074, 32.57945417, 25.64924709,\n",
       "       19.28168826, 29.81948328, 21.79603615, 23.73407972, 26.05492321,\n",
       "       20.74475221, 20.36043514, 21.55432553, 25.06625729, 23.39089358,\n",
       "       29.27659552, 22.76119763, 20.71609139,  1.6345469 , 13.66138122,\n",
       "       23.51369342, 15.12484067, 25.36408029, 21.8167032 , 17.56912933,\n",
       "       27.54071254, 34.54472279, 17.42901087, 18.88676707, 24.68964319,\n",
       "       19.52300339, 26.01901864, 22.1202932 , 23.95161154, 14.86017247,\n",
       "       24.87956641, 13.22545713, 22.01284696, 29.10550239, 22.6549897 ,\n",
       "       21.93045136, 19.08707929, 20.43628469, 37.66611693, 23.01522699,\n",
       "       17.39305965, 15.25973276, 23.78482629, 18.2255268 , 23.6555908 ,\n",
       "       25.41873355, 19.47064634, 32.32898265, 13.38892867, 23.89994648,\n",
       "       18.5577429 , 39.21649498, 25.04117764, 24.25673633, 24.40614491,\n",
       "       30.00924374, 26.35000213, 21.29919159, 22.79863698, 35.45215002,\n",
       "       21.3879705 , 32.29725224, 27.38120005, 20.55261985, 29.26692753,\n",
       "       21.11489594, 17.86012118, 18.4936948 , 19.71761236, 26.62832639,\n",
       "       15.78885974, 19.28947262, 26.24077698, 26.30526099, 27.78008598,\n",
       "       22.47233924, 17.70146343, 27.89504911, 27.2207981 , 21.44030422,\n",
       "       24.99619806, 22.64313589, 28.74588709, 27.18123098, 23.23436929,\n",
       "       18.47211495, 18.66102067, 17.00087114, 25.65196783, 12.51708048,\n",
       "       31.96010056, 38.62181413, 13.89491199, 10.71110924, 29.72598959,\n",
       "       29.08125985, 20.4907752 , 23.93281049, 21.9384218 , 19.20384468,\n",
       "       19.43737544, 26.34988604, 31.66647505, 19.4786458 , 22.04726909,\n",
       "       19.32839442, 20.78054638, 21.60781617, 29.68798059, 18.48340481,\n",
       "       19.883165  , 17.39008908, 28.88298832, 43.76140359, 20.91202004,\n",
       "       23.91635231, 19.50743467, 28.92360766, 23.44454698, 16.75955602,\n",
       "       26.40651001, 19.50199888, 15.62303964, 21.18107181, 15.63082399,\n",
       "       16.29484306, 18.94279238, 22.34781853, 33.86966369, 29.28774595,\n",
       "       19.76103951, 14.09965389, 34.15550485, 23.98827184, 19.42781785,\n",
       "       19.02906565, 18.08289701, 29.19554862, 27.39787334, 22.26299866,\n",
       "       13.89491199, 28.31664279, 25.28712616, 14.59550428, 25.25219244,\n",
       "       19.08707929, 30.60583724, 17.81044445, 18.83797981, 23.56543416,\n",
       "       21.22913236, 25.18218556, 24.78496815, 32.07708105, 27.39353643,\n",
       "       21.58585846, 23.11367389, 22.55021185, 27.00049318, 23.75769456,\n",
       "       26.84025398, 29.41122015, 21.61129265, 15.75537373, 22.38221163,\n",
       "       22.54703187, 24.64051279, 32.73904804, -0.50615176, 21.94529337,\n",
       "       24.76455093, 20.81039315, 43.22067263, 22.94516776, 21.64412763,\n",
       "       27.25495276, 25.30444478, 24.84610943, 14.25299249, 25.69088962,\n",
       "       37.61464365, 39.49974913, 12.47815869, 18.79905802, 21.22234217,\n",
       "       20.94458756, 24.38822762, 32.10043413, 32.09251604, 12.74282689,\n",
       "       17.92239605, 19.90443697,  3.42494942, 23.82684669, 16.93081191,\n",
       "       26.43869966, 11.8709787 , 22.21639152, 18.85673421, 22.29874047,\n",
       "       21.61907701, 22.56876878, 40.20034142, 22.6777498 ,  1.6345469 ,\n",
       "       14.15958018, 13.14761354, 26.60537451, 25.42673302, 11.3805641 ,\n",
       "       20.12239901, 29.29224562, 22.20217721, 19.28737957, 18.44097751,\n",
       "       22.75559339, 24.55254196, 21.50231162, 16.52602525, 32.04535064,\n",
       "       27.51353415, 26.63573289,  9.55123979, 18.35182644, 22.32397718,\n",
       "       25.76690193,  8.34466417, 28.25784439, 23.66428226, 20.06279822,\n",
       "       40.59316956, 27.92093115, 15.25973276, 22.52989934, 37.76954037,\n",
       "       17.77930702, 22.48707085, 18.55680678, 21.44574   , 28.77680942,\n",
       "       12.0757206 , 19.58741172, 22.37313661, 25.56633988, 33.0890477 ,\n",
       "       23.86450116, 14.27634557, 31.503922  , 18.08289701, 19.29960555,\n",
       "       22.26523114,  7.41054112, 34.35849115, 26.47115678, 26.74759741,\n",
       "       18.59666469, 11.89668035, 21.81373833, 22.18822466, 10.50093156,\n",
       "       20.05660101, 29.21413457, 11.16260205, 23.41340955, 22.30980383,\n",
       "       22.71799128, 17.54034047, 23.84815338, 23.10766846, 15.55298041,\n",
       "       19.77418397, 22.61339382, 23.77445493, 37.79198635, 21.6511039 ,\n",
       "       23.75729906, 22.37415981, 28.09332064, 17.31224549, 20.67735568,\n",
       "       14.97693786, 39.20095529, 23.28169745, 22.99779797, 20.94988961,\n",
       "       19.28395546, 21.24334668, 18.7834893 , 32.99980954, 35.13272385,\n",
       "       19.07035935, 23.94821645, 16.02782629, 18.96479675, 17.01643986,\n",
       "       29.7424711 , 18.06380516, 25.03729997, 21.06792232])"
      ]
     },
     "execution_count": 29,
     "metadata": {},
     "output_type": "execute_result"
    }
   ],
   "source": [
    "mlm.predict(x_train)"
   ]
  },
  {
   "cell_type": "code",
   "execution_count": 30,
   "id": "3ce1a513",
   "metadata": {},
   "outputs": [
    {
     "data": {
      "text/plain": [
       "-19.670179474543467"
      ]
     },
     "execution_count": 30,
     "metadata": {},
     "output_type": "execute_result"
    }
   ],
   "source": [
    "#find intercept\n",
    "mlm.intercept_ "
   ]
  },
  {
   "cell_type": "code",
   "execution_count": 31,
   "id": "726f01f0",
   "metadata": {},
   "outputs": [
    {
     "data": {
      "text/plain": [
       "array([ 7.78435878, -0.0163768 ])"
      ]
     },
     "execution_count": 31,
     "metadata": {},
     "output_type": "execute_result"
    }
   ],
   "source": [
    "#find coeficient\n",
    "mlm.coef_ "
   ]
  },
  {
   "cell_type": "code",
   "execution_count": 35,
   "id": "6353fe89",
   "metadata": {},
   "outputs": [
    {
     "data": {
      "text/plain": [
       "0.516326158853115"
      ]
     },
     "execution_count": 35,
     "metadata": {},
     "output_type": "execute_result"
    }
   ],
   "source": [
    "#find r square\n",
    "mlm.score(x_train,y_train)"
   ]
  },
  {
   "cell_type": "code",
   "execution_count": 37,
   "id": "cb9c82d2",
   "metadata": {
    "scrolled": true
   },
   "outputs": [
    {
     "name": "stdout",
     "output_type": "stream",
     "text": [
      "R squared: 51.63\n"
     ]
    }
   ],
   "source": [
    "#convert r2 to percentage\n",
    "print('R squared: {:.2f}'.format(mlm.score(x_train,y_train)*100))"
   ]
  },
  {
   "cell_type": "code",
   "execution_count": 43,
   "id": "9b5f84c9",
   "metadata": {},
   "outputs": [
    {
     "name": "stdout",
     "output_type": "stream",
     "text": [
      "Predicted Value: \n",
      " [19.0059624]\n"
     ]
    }
   ],
   "source": [
    "# make predictions\n",
    "New_Value1 = 5\n",
    "New_Value2 = 15\n",
    "print ('Predicted Value: \\n', mlm.predict([[New_Value1 ,New_Value2]]))  "
   ]
  },
  {
   "cell_type": "code",
   "execution_count": 61,
   "id": "570def45",
   "metadata": {},
   "outputs": [
    {
     "name": "stderr",
     "output_type": "stream",
     "text": [
      "C:\\Users\\Cynthia\\anaconda3\\lib\\site-packages\\statsmodels\\tsa\\tsatools.py:142: FutureWarning: In a future version of pandas all arguments of concat except for the argument 'objs' will be keyword-only\n",
      "  x = pd.concat(x[::order], 1)\n"
     ]
    }
   ],
   "source": [
    "# Create formula and pass through OLS methods, Before was:\n",
    "#f = 'x ~ y'\n",
    "#test = ols(f, data = df).fit()\n",
    "#now is:\n",
    "\n",
    "f = sm.OLS(y_train, sm.add_constant(x_train)).fit()\n",
    "\n",
    "Y_pred = f.predict(sm.add_constant(x_train))"
   ]
  },
  {
   "cell_type": "code",
   "execution_count": 62,
   "id": "b6a6dfca",
   "metadata": {
    "scrolled": true
   },
   "outputs": [
    {
     "data": {
      "text/html": [
       "<table class=\"simpletable\">\n",
       "<caption>OLS Regression Results</caption>\n",
       "<tr>\n",
       "  <th>Dep. Variable:</th>        <td>Median_s</td>     <th>  R-squared:         </th> <td>   0.516</td>\n",
       "</tr>\n",
       "<tr>\n",
       "  <th>Model:</th>                   <td>OLS</td>       <th>  Adj. R-squared:    </th> <td>   0.514</td>\n",
       "</tr>\n",
       "<tr>\n",
       "  <th>Method:</th>             <td>Least Squares</td>  <th>  F-statistic:       </th> <td>   214.0</td>\n",
       "</tr>\n",
       "<tr>\n",
       "  <th>Date:</th>             <td>Sat, 21 May 2022</td> <th>  Prob (F-statistic):</th> <td>5.66e-64</td>\n",
       "</tr>\n",
       "<tr>\n",
       "  <th>Time:</th>                 <td>08:40:31</td>     <th>  Log-Likelihood:    </th> <td> -1326.1</td>\n",
       "</tr>\n",
       "<tr>\n",
       "  <th>No. Observations:</th>      <td>   404</td>      <th>  AIC:               </th> <td>   2658.</td>\n",
       "</tr>\n",
       "<tr>\n",
       "  <th>Df Residuals:</th>          <td>   401</td>      <th>  BIC:               </th> <td>   2670.</td>\n",
       "</tr>\n",
       "<tr>\n",
       "  <th>Df Model:</th>              <td>     2</td>      <th>                     </th>     <td> </td>   \n",
       "</tr>\n",
       "<tr>\n",
       "  <th>Covariance Type:</th>      <td>nonrobust</td>    <th>                     </th>     <td> </td>   \n",
       "</tr>\n",
       "</table>\n",
       "<table class=\"simpletable\">\n",
       "<tr>\n",
       "      <td></td>         <th>coef</th>     <th>std err</th>      <th>t</th>      <th>P>|t|</th>  <th>[0.025</th>    <th>0.975]</th>  \n",
       "</tr>\n",
       "<tr>\n",
       "  <th>const</th>     <td>  -19.6702</td> <td>    3.347</td> <td>   -5.877</td> <td> 0.000</td> <td>  -26.250</td> <td>  -13.091</td>\n",
       "</tr>\n",
       "<tr>\n",
       "  <th>avg_no_it</th> <td>    7.7844</td> <td>    0.482</td> <td>   16.156</td> <td> 0.000</td> <td>    6.837</td> <td>    8.732</td>\n",
       "</tr>\n",
       "<tr>\n",
       "  <th>tax</th>       <td>   -0.0164</td> <td>    0.002</td> <td>   -8.257</td> <td> 0.000</td> <td>   -0.020</td> <td>   -0.012</td>\n",
       "</tr>\n",
       "</table>\n",
       "<table class=\"simpletable\">\n",
       "<tr>\n",
       "  <th>Omnibus:</th>       <td>216.200</td> <th>  Durbin-Watson:     </th> <td>   2.110</td>\n",
       "</tr>\n",
       "<tr>\n",
       "  <th>Prob(Omnibus):</th> <td> 0.000</td>  <th>  Jarque-Bera (JB):  </th> <td>1876.960</td>\n",
       "</tr>\n",
       "<tr>\n",
       "  <th>Skew:</th>          <td> 2.121</td>  <th>  Prob(JB):          </th> <td>    0.00</td>\n",
       "</tr>\n",
       "<tr>\n",
       "  <th>Kurtosis:</th>      <td>12.670</td>  <th>  Cond. No.          </th> <td>4.61e+03</td>\n",
       "</tr>\n",
       "</table><br/><br/>Notes:<br/>[1] Standard Errors assume that the covariance matrix of the errors is correctly specified.<br/>[2] The condition number is large, 4.61e+03. This might indicate that there are<br/>strong multicollinearity or other numerical problems."
      ],
      "text/plain": [
       "<class 'statsmodels.iolib.summary.Summary'>\n",
       "\"\"\"\n",
       "                            OLS Regression Results                            \n",
       "==============================================================================\n",
       "Dep. Variable:               Median_s   R-squared:                       0.516\n",
       "Model:                            OLS   Adj. R-squared:                  0.514\n",
       "Method:                 Least Squares   F-statistic:                     214.0\n",
       "Date:                Sat, 21 May 2022   Prob (F-statistic):           5.66e-64\n",
       "Time:                        08:40:31   Log-Likelihood:                -1326.1\n",
       "No. Observations:                 404   AIC:                             2658.\n",
       "Df Residuals:                     401   BIC:                             2670.\n",
       "Df Model:                           2                                         \n",
       "Covariance Type:            nonrobust                                         \n",
       "==============================================================================\n",
       "                 coef    std err          t      P>|t|      [0.025      0.975]\n",
       "------------------------------------------------------------------------------\n",
       "const        -19.6702      3.347     -5.877      0.000     -26.250     -13.091\n",
       "avg_no_it      7.7844      0.482     16.156      0.000       6.837       8.732\n",
       "tax           -0.0164      0.002     -8.257      0.000      -0.020      -0.012\n",
       "==============================================================================\n",
       "Omnibus:                      216.200   Durbin-Watson:                   2.110\n",
       "Prob(Omnibus):                  0.000   Jarque-Bera (JB):             1876.960\n",
       "Skew:                           2.121   Prob(JB):                         0.00\n",
       "Kurtosis:                      12.670   Cond. No.                     4.61e+03\n",
       "==============================================================================\n",
       "\n",
       "Notes:\n",
       "[1] Standard Errors assume that the covariance matrix of the errors is correctly specified.\n",
       "[2] The condition number is large, 4.61e+03. This might indicate that there are\n",
       "strong multicollinearity or other numerical problems.\n",
       "\"\"\""
      ]
     },
     "execution_count": 62,
     "metadata": {},
     "output_type": "execute_result"
    }
   ],
   "source": [
    "f.summary()"
   ]
  },
  {
   "cell_type": "code",
   "execution_count": 64,
   "id": "017b3689",
   "metadata": {},
   "outputs": [
    {
     "name": "stdout",
     "output_type": "stream",
     "text": [
      "51.632615885311495\n"
     ]
    }
   ],
   "source": [
    "#print rsquare of training in percentage\n",
    "\n",
    "print(mlm.score(x_train,y_train)*100)"
   ]
  },
  {
   "cell_type": "code",
   "execution_count": 65,
   "id": "78e4a089",
   "metadata": {},
   "outputs": [
    {
     "data": {
      "text/plain": [
       "LinearRegression()"
      ]
     },
     "execution_count": 65,
     "metadata": {},
     "output_type": "execute_result"
    }
   ],
   "source": [
    "# run regression on the train subset\n",
    "mlm = LinearRegression()  \n",
    "mlm.fit(x_train, y_train)"
   ]
  },
  {
   "cell_type": "code",
   "execution_count": 84,
   "id": "fb0d387c",
   "metadata": {},
   "outputs": [
    {
     "name": "stdout",
     "output_type": "stream",
     "text": [
      "Prediction for test set: [19.68077167 38.76268832 15.79429553 23.49922927 19.2739039   8.11113341\n",
      " 22.59791218 14.06288888 26.39447012 21.86039213 19.79545594 30.26529047\n",
      " 21.22777796 21.44808858 20.79264432 23.45370907 21.97392517 18.46339447\n",
      " 23.11847005 34.4541126  25.78072075 19.76882387 23.04084157 26.82686538\n",
      " 17.75595394 22.13454223 20.1246662  37.45556138 34.46353646 25.41954164\n",
      " 14.71226966 21.05474884 20.37149849 22.93705789 11.66858537  5.63570732\n",
      " 25.934629   26.27064708 22.2364656  21.61934447 17.77360377 18.96641292\n",
      " 31.56527838 15.15597811 26.66444607 20.36881247 24.43706724 23.85868181\n",
      " 18.76614735 24.03793148 19.70204364 17.6314042  21.96729204 33.05748004\n",
      " 11.14180696 25.42261122 31.1691132  31.06150421 21.95950768 28.04224855\n",
      " 18.54177868 31.03384325 24.53573494 19.40072084 20.55261985 21.02538463\n",
      " 30.45308592 -2.85702811 24.909733   19.05594186 17.05358842 21.07872391\n",
      " 22.54333459 12.74517546 19.53717674 29.52410786 22.68984204 16.15237603\n",
      " 31.01355975 36.30385414 21.09084518 23.29169095  8.0566429  21.41668368\n",
      " 32.02703216 19.22719775 32.86618479 24.12806479 17.86720216 21.38031987\n",
      " 22.03620004 24.877491   28.85074631 17.86493496 22.91933239 27.25260989\n",
      " 22.86244664 24.32851643 29.30614581 17.56912933 28.19548814 25.86720913\n",
      " 12.39253074 32.57945417 25.64924709 19.28168826 29.81948328 21.79603615\n",
      " 23.73407972 26.05492321 20.74475221 20.36043514 21.55432553 25.06625729\n",
      " 23.39089358 29.27659552 22.76119763 20.71609139  1.6345469  13.66138122\n",
      " 23.51369342 15.12484067 25.36408029 21.8167032  17.56912933 27.54071254\n",
      " 34.54472279 17.42901087 18.88676707 24.68964319 19.52300339 26.01901864\n",
      " 22.1202932  23.95161154 14.86017247 24.87956641 13.22545713 22.01284696\n",
      " 29.10550239 22.6549897  21.93045136 19.08707929 20.43628469 37.66611693\n",
      " 23.01522699 17.39305965 15.25973276 23.78482629 18.2255268  23.6555908\n",
      " 25.41873355 19.47064634 32.32898265 13.38892867 23.89994648 18.5577429\n",
      " 39.21649498 25.04117764 24.25673633 24.40614491 30.00924374 26.35000213\n",
      " 21.29919159 22.79863698 35.45215002 21.3879705  32.29725224 27.38120005\n",
      " 20.55261985 29.26692753 21.11489594 17.86012118 18.4936948  19.71761236\n",
      " 26.62832639 15.78885974 19.28947262 26.24077698 26.30526099 27.78008598\n",
      " 22.47233924 17.70146343 27.89504911 27.2207981  21.44030422 24.99619806\n",
      " 22.64313589 28.74588709 27.18123098 23.23436929 18.47211495 18.66102067\n",
      " 17.00087114 25.65196783 12.51708048 31.96010056 38.62181413 13.89491199\n",
      " 10.71110924 29.72598959 29.08125985 20.4907752  23.93281049 21.9384218\n",
      " 19.20384468 19.43737544 26.34988604 31.66647505 19.4786458  22.04726909\n",
      " 19.32839442 20.78054638 21.60781617 29.68798059 18.48340481 19.883165\n",
      " 17.39008908 28.88298832 43.76140359 20.91202004 23.91635231 19.50743467\n",
      " 28.92360766 23.44454698 16.75955602 26.40651001 19.50199888 15.62303964\n",
      " 21.18107181 15.63082399 16.29484306 18.94279238 22.34781853 33.86966369\n",
      " 29.28774595 19.76103951 14.09965389 34.15550485 23.98827184 19.42781785\n",
      " 19.02906565 18.08289701 29.19554862 27.39787334 22.26299866 13.89491199\n",
      " 28.31664279 25.28712616 14.59550428 25.25219244 19.08707929 30.60583724\n",
      " 17.81044445 18.83797981 23.56543416 21.22913236 25.18218556 24.78496815\n",
      " 32.07708105 27.39353643 21.58585846 23.11367389 22.55021185 27.00049318\n",
      " 23.75769456 26.84025398 29.41122015 21.61129265 15.75537373 22.38221163\n",
      " 22.54703187 24.64051279 32.73904804 -0.50615176 21.94529337 24.76455093\n",
      " 20.81039315 43.22067263 22.94516776 21.64412763 27.25495276 25.30444478\n",
      " 24.84610943 14.25299249 25.69088962 37.61464365 39.49974913 12.47815869\n",
      " 18.79905802 21.22234217 20.94458756 24.38822762 32.10043413 32.09251604\n",
      " 12.74282689 17.92239605 19.90443697  3.42494942 23.82684669 16.93081191\n",
      " 26.43869966 11.8709787  22.21639152 18.85673421 22.29874047 21.61907701\n",
      " 22.56876878 40.20034142 22.6777498   1.6345469  14.15958018 13.14761354\n",
      " 26.60537451 25.42673302 11.3805641  20.12239901 29.29224562 22.20217721\n",
      " 19.28737957 18.44097751 22.75559339 24.55254196 21.50231162 16.52602525\n",
      " 32.04535064 27.51353415 26.63573289  9.55123979 18.35182644 22.32397718\n",
      " 25.76690193  8.34466417 28.25784439 23.66428226 20.06279822 40.59316956\n",
      " 27.92093115 15.25973276 22.52989934 37.76954037 17.77930702 22.48707085\n",
      " 18.55680678 21.44574    28.77680942 12.0757206  19.58741172 22.37313661\n",
      " 25.56633988 33.0890477  23.86450116 14.27634557 31.503922   18.08289701\n",
      " 19.29960555 22.26523114  7.41054112 34.35849115 26.47115678 26.74759741\n",
      " 18.59666469 11.89668035 21.81373833 22.18822466 10.50093156 20.05660101\n",
      " 29.21413457 11.16260205 23.41340955 22.30980383 22.71799128 17.54034047\n",
      " 23.84815338 23.10766846 15.55298041 19.77418397 22.61339382 23.77445493\n",
      " 37.79198635 21.6511039  23.75729906 22.37415981 28.09332064 17.31224549\n",
      " 20.67735568 14.97693786 39.20095529 23.28169745 22.99779797 20.94988961\n",
      " 19.28395546 21.24334668 18.7834893  32.99980954 35.13272385 19.07035935\n",
      " 23.94821645 16.02782629 18.96479675 17.01643986 29.7424711  18.06380516\n",
      " 25.03729997 21.06792232]\n"
     ]
    }
   ],
   "source": [
    "y_pred_mlm= mlm.predict(x_train)\n",
    "print(\"Prediction for test set: {}\".format(y_pred_mlm))"
   ]
  },
  {
   "cell_type": "code",
   "execution_count": 67,
   "id": "d7617397",
   "metadata": {},
   "outputs": [],
   "source": [
    "meanAbErr = metrics.mean_absolute_error(y_train, y_pred_mlm)\n",
    "meanSqErr = metrics.mean_squared_error(y_train, y_pred_mlm)"
   ]
  },
  {
   "cell_type": "code",
   "execution_count": 69,
   "id": "4be45639",
   "metadata": {},
   "outputs": [
    {
     "name": "stdout",
     "output_type": "stream",
     "text": [
      "R squared: 56.03\n",
      "Mean Absolute Error: 4.257056211181979\n",
      "Mean Square Error: 41.54840402298601\n"
     ]
    }
   ],
   "source": [
    "print('R squared: {:.2f}'.format(mlm.score(X,y)*100))\n",
    "print('Mean Absolute Error:', meanAbErr)\n",
    "print('Mean Square Error:', meanSqErr)"
   ]
  },
  {
   "cell_type": "code",
   "execution_count": 77,
   "id": "2dc82923",
   "metadata": {},
   "outputs": [
    {
     "name": "stdout",
     "output_type": "stream",
     "text": [
      "Predicted Value: \n",
      " [19.0059624]\n"
     ]
    }
   ],
   "source": [
    "New_Value1 = 5\n",
    "New_Value2 = 15\n",
    "print ('Predicted Value: \\n', mlm.predict([[New_Value1 ,New_Value2]]))  "
   ]
  },
  {
   "cell_type": "code",
   "execution_count": 78,
   "id": "b35104de",
   "metadata": {},
   "outputs": [
    {
     "name": "stdout",
     "output_type": "stream",
     "text": [
      "   VIF Factor   features\n",
      "0       108.1      const\n",
      "1         1.1  avg_no_it\n",
      "2         1.1        tax\n"
     ]
    },
    {
     "name": "stderr",
     "output_type": "stream",
     "text": [
      "C:\\Users\\Cynthia\\anaconda3\\lib\\site-packages\\statsmodels\\tsa\\tsatools.py:142: FutureWarning: In a future version of pandas all arguments of concat except for the argument 'objs' will be keyword-only\n",
      "  x = pd.concat(x[::order], 1)\n"
     ]
    }
   ],
   "source": [
    "# check multicollinearity\n",
    "x_temp = sm.add_constant(x_train) # multicollinearity\n",
    "\n",
    "vif = pd.DataFrame()\n",
    "vif[\"VIF Factor\"] = [variance_inflation_factor(x_temp.values, i) for i in range(x_temp.values.shape[1])]\n",
    "vif[\"features\"] = x_temp.columns\n",
    "print(vif.round(1))"
   ]
  },
  {
   "cell_type": "code",
   "execution_count": 80,
   "id": "a6297e1d",
   "metadata": {},
   "outputs": [],
   "source": [
    "# check for heteroscedasticity\n",
    "f = sms.het_breuschpagan(f.resid, f.model.exog) "
   ]
  },
  {
   "cell_type": "code",
   "execution_count": 82,
   "id": "9f65d671",
   "metadata": {},
   "outputs": [
    {
     "name": "stdout",
     "output_type": "stream",
     "text": [
      "{'LM stat': 25.713614774717737, 'LM Test p-value': 2.6083117438493877e-06, 'F-stat': 13.628774292948947, 'F-test p-value': 1.8775385253318083e-06}\n"
     ]
    }
   ],
   "source": [
    "# Summarise the results in a regression table using f.summary()\n",
    "\n",
    "terms = ['LM stat', 'LM Test p-value', 'F-stat', 'F-test p-value']\n",
    "\n",
    "print(dict(zip(terms, f)))"
   ]
  },
  {
   "cell_type": "code",
   "execution_count": null,
   "id": "20551a17",
   "metadata": {},
   "outputs": [],
   "source": []
  }
 ],
 "metadata": {
  "kernelspec": {
   "display_name": "Python 3 (ipykernel)",
   "language": "python",
   "name": "python3"
  },
  "language_info": {
   "codemirror_mode": {
    "name": "ipython",
    "version": 3
   },
   "file_extension": ".py",
   "mimetype": "text/x-python",
   "name": "python",
   "nbconvert_exporter": "python",
   "pygments_lexer": "ipython3",
   "version": "3.9.7"
  }
 },
 "nbformat": 4,
 "nbformat_minor": 5
}
